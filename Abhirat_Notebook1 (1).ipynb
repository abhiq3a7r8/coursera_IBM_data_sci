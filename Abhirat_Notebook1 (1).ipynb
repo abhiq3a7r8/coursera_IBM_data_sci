{
  "metadata": {
    "kernelspec": {
      "name": "python",
      "display_name": "Python (Pyodide)",
      "language": "python"
    },
    "language_info": {
      "codemirror_mode": {
        "name": "python",
        "version": 3
      },
      "file_extension": ".py",
      "mimetype": "text/x-python",
      "name": "python",
      "nbconvert_exporter": "python",
      "pygments_lexer": "ipython3",
      "version": "3.8"
    }
  },
  "nbformat_minor": 4,
  "nbformat": 4,
  "cells": [
    {
      "cell_type": "markdown",
      "source": "<center>\n    <img src=\"https://cf-courses-data.s3.us.cloud-object-storage.appdomain.cloud/IBMDeveloperSkillsNetwork-DS0105EN-SkillsNetwork/labs/Module2/images/SN_web_lightmode.png\" width=\"300\" alt=\"cognitiveclass.ai logo\">\n</center>\n",
      "metadata": {}
    },
    {
      "cell_type": "markdown",
      "source": "#### Add your code below following the instructions given in the course\n",
      "metadata": {}
    },
    {
      "cell_type": "markdown",
      "source": "# Abhirat_Notebook1\n",
      "metadata": {}
    },
    {
      "cell_type": "markdown",
      "source": "### Introduction\r\n\r\nHello there!I'm Abhirat More, and I'm currently immersed in the world of data science through the IBM Data Science course. As a passionate learner in the field, I am excited to share my journey and insights with you.oanalysis\r\n",
      "metadata": {}
    },
    {
      "cell_type": "markdown",
      "source": "### Data Science Languages\r\n\r\n1. **Python**\r\n2. **R**\r\n3. **SQL (Structured Query Language)**\r\n4. **Julia**\r\n5. **Java**\r\n6. **Scala**",
      "metadata": {}
    },
    {
      "cell_type": "markdown",
      "source": "### Data Science Tools\r\n\r\n| Tool                | Description                                              |\r\n|---------------------|----------------------------------------------------------|\r\n| **Jupyter Notebook** | Interactive, open-source web application for data analysis |\r\n| **RStudio**          | Integrated development environment for R                   |\r\n| **Anaconda**         | Distribution of Python and R for scientific computing      |\r\n| **Tableau**          | Business intelligence and data visualization tool         |\r\n| **Apache Spark**     | Distributed computing system for big data processing      |\r\n| **TensorBoard**      | Web-based tool for visualizing TensorFlow models          |\r\n| **Power BI**         | Business analytics tool by Microsoft                       |\r\n| **Git**              | Version control system for tracking changes in code        |\r\n| **Docker**           | Platform for developing, shipping, and running applications in containers |\r\n| **Airflow**          | Platform for orchestrating complex data workflownd deployment.\r\n",
      "metadata": {}
    },
    {
      "cell_type": "markdown",
      "source": "### Arithmetic Expressions Examples\n\n1. **Addition (+):**\r\n   - Example: \\(5 + 3 = 8\\)\r\n\r\n2. **Subtraction (-):**\r\n   - Example: \\(10 - 4 = 6\\)\r\n\r\n3. **Multiplication (*):**\r\n   - Example: \\(3 \\times 7 = 21\\)\r\n\r\n4. **Division (/):**\r\n   - Example: \\(15 / 3 = 5\\)",
      "metadata": {}
    },
    {
      "cell_type": "code",
      "source": "# Multiplication\nnumber1 = 5\nnumber2 = 3\nresult_multiply = number1 * number2\nprint(f'Multiplication: {number1} * {number2} = {result_multiply}')\n\n# Addition\nnumber3 = 10\nnumber4 = 7\nresult_addition = number3 + number4\nprint(f'Addition: {number3} + {number4} = {result_addition}')\n",
      "metadata": {
        "trusted": true
      },
      "outputs": [
        {
          "name": "stdout",
          "text": "Multiplication: 5 * 3 = 15\nAddition: 10 + 7 = 17\n",
          "output_type": "stream"
        }
      ],
      "execution_count": 1
    },
    {
      "cell_type": "code",
      "source": "minutes = 120\nhours = minutes / 60\nprint(f'{minutes} minutes is equal to {hours} hours.')",
      "metadata": {
        "trusted": true
      },
      "outputs": [
        {
          "name": "stdout",
          "text": "120 minutes is equal to 2.0 hours.\n",
          "output_type": "stream"
        }
      ],
      "execution_count": 1
    },
    {
      "cell_type": "markdown",
      "source": "### Objectives\r\n\r\n- **Title of the Notebook:** Clearly define the title of the notebook to provide context.\r\n\r\n- **Introduction:** Set the stage by introducing the purpose and content of the notebook.\r\n\r\n- **Data Science Languages:** List key programming languages used in data science.\r\n\r\n- **Data Science Libraries:** Highlight important libraries utilized in data science projects.\r\n\r\n- **Data Science Tools Table:** Provide a table with notable tools used in the data science field.\r\n\r\n- **Arithmetic Expression Examples:** Introduce and demonstrate basic arithmetic expressions.\r\n\r\n- **Multiply and Add Numbers Code Cell:** Implement a Python code cell to perform multiplication and addition.\r\n\r\n- **Convert Minutes to Hours Code Cell:** Create a code cell to convert minutes to hours, taking user input.\r\n\r\n- **List Objectives Markdown Cell:** Clearly articulate the objectives to guide the reader.\r\n\r\n- **Author's Name:** Identify the author or contributor of the notebook.\r\n\r\n- **Share on GitHub:** Share the notebook on GitHub for collaboration and version control.\r\n\r\n- **Notebook Screenshot:** Capture and share a screenshot of the first page of the notebook.\r\nrst page of the notebook.\r\n",
      "metadata": {}
    },
    {
      "cell_type": "markdown",
      "source": "### Author\n\n- **Abhirat More**\n",
      "metadata": {}
    },
    {
      "cell_type": "markdown",
      "source": " \r\n\r\n-Github Linkmeom)\r\n",
      "metadata": {}
    }
  ]
}